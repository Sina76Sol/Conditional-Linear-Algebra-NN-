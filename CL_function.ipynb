{
  "nbformat": 4,
  "nbformat_minor": 0,
  "metadata": {
    "colab": {
      "provenance": [],
      "authorship_tag": "ABX9TyPZN3yokiArQAcMzbCP9tzf",
      "include_colab_link": true
    },
    "kernelspec": {
      "name": "python3",
      "display_name": "Python 3"
    },
    "language_info": {
      "name": "python"
    },
    "accelerator": "GPU",
    "gpuClass": "standard"
  },
  "cells": [
    {
      "cell_type": "markdown",
      "metadata": {
        "id": "view-in-github",
        "colab_type": "text"
      },
      "source": [
        "<a href=\"https://colab.research.google.com/github/Sina76Sol/Conditional-Linear-Algebra-NN-/blob/main/CL_function.ipynb\" target=\"_parent\"><img src=\"https://colab.research.google.com/assets/colab-badge.svg\" alt=\"Open In Colab\"/></a>"
      ]
    },
    {
      "cell_type": "code",
      "execution_count": 10,
      "metadata": {
        "id": "v4MceNxvW0ef"
      },
      "outputs": [],
      "source": [
        "import tensorflow as tf\n",
        "from keras import layers\n",
        "from tensorflow import keras\n",
        "import numpy as np"
      ]
    },
    {
      "cell_type": "code",
      "source": [
        "# Get model\n",
        "inputs = keras.Input(shape=(784,), name=\"digits\")\n",
        "x = layers.Dense(128, activation=\"relu\", name=\"dense_1\")(inputs)\n",
        "x = layers.Dropout(0.2)(x)\n",
        "outputs = layers.Dense(10, name=\"predictions\")(x)\n",
        "model = keras.Model(inputs=inputs, outputs=outputs)\n",
        "\n",
        "# Instantiate an optimizer to train the model.\n",
        "optimizer = keras.optimizers.SGD(learning_rate=1e-3)\n",
        "# Instantiate a loss function.\n",
        "loss_fn = keras.losses.SparseCategoricalCrossentropy(from_logits=True)\n",
        "\n",
        "# Prepare the metrics.\n",
        "train_acc_metric = keras.metrics.SparseCategoricalAccuracy()\n",
        "val_acc_metric = keras.metrics.SparseCategoricalAccuracy()\n",
        "\n",
        "\n",
        "# define low rank approximation function\n",
        "def low_rank_approx(weights, rank):\n",
        "    u, s, vt = np.linalg.svd(weights, full_matrices=False)\n",
        "    s = np.diag(s)\n",
        "    approximation = u[:, :rank] @ s[0:rank, :rank] @ vt[:rank, :]\n",
        "    return approximation\n",
        "\n",
        "\n",
        "# define apply_approximation function\n",
        "def apply_low_rank(model_weights, rank):\n",
        "    for w in model_weights:\n",
        "        if w.shape.rank < 2:\n",
        "            pass\n",
        "        else:\n",
        "            approx = low_rank_approx(w.numpy(), rank)\n",
        "            w.assign(tf.Variable(approx))\n",
        "\n",
        "\n",
        "# Creating a function to do the training and validation and return the accuracy values and error:\n",
        "def general(epochs, train, val, r):\n",
        "    acc = []\n",
        "    for epoch in range(epochs):\n",
        "        epoch_acc = []\n",
        "        print(\"\\nStart of epoch %d\" % (epoch,))\n",
        "\n",
        "        # Iterate over the batches of the dataset.\n",
        "        for step, (x_batch_train, y_batch_train) in enumerate(train):\n",
        "            with tf.GradientTape() as tape:\n",
        "                logits = model(x_batch_train, training=True)\n",
        "                loss_value = loss_fn(y_batch_train, logits)\n",
        "            grads = tape.gradient(loss_value, model.trainable_weights)\n",
        "            optimizer.apply_gradients(zip(grads, model.trainable_weights))\n",
        "            apply_low_rank(model.trainable_weights, r)\n",
        "            # Update training metric.\n",
        "            train_acc_metric.update_state(y_batch_train, logits)\n",
        "\n",
        "            # Log every 200 batches.\n",
        "            # if step % 200 == 0:\n",
        "            #     print(\n",
        "            #         \"Training loss (for one batch) at step %d: %.4f\"\n",
        "            #         % (step, float(loss_value))\n",
        "            #     )\n",
        "            #     print(\"Seen so far: %d samples\" % ((step + 1) * batch_size))\n",
        "\n",
        "        # Display metrics at the end of each epoch.\n",
        "        train_acc = train_acc_metric.result()\n",
        "\n",
        "        # Reset training metrics at the end of each epoch\n",
        "        train_acc_metric.reset_states()\n",
        "        epoch_acc.append(float(train_acc))\n",
        "\n",
        "        # Run a validation loop at the end of each epoch.\n",
        "        for x_batch_val, y_batch_val in val:\n",
        "            val_logits = model(x_batch_val, training=False)\n",
        "            # Update val metrics\n",
        "            val_acc_metric.update_state(y_batch_val, val_logits)\n",
        "        val_acc = val_acc_metric.result()\n",
        "        epoch_acc.append(float(val_acc))\n",
        "        val_acc_metric.reset_states()\n",
        "        acc.append(epoch_acc)\n",
        "    return acc"
      ],
      "metadata": {
        "id": "nVBe3cymX9H8"
      },
      "execution_count": 11,
      "outputs": []
    },
    {
      "cell_type": "code",
      "source": [
        "# Prepare the training dataset.\n",
        "batch_size = 64\n",
        "(x_train, y_train), (x_test, y_test) = keras.datasets.mnist.load_data()\n",
        "x_train = np.reshape(x_train, (-1, 784))\n",
        "x_test = np.reshape(x_test, (-1, 784))\n",
        "\n",
        "# Reserve 10,000 samples for validation.\n",
        "x_val = x_train[-10000:]\n",
        "y_val = y_train[-10000:]\n",
        "x_train = x_train[:-10000]\n",
        "y_train = y_train[:-10000]\n",
        "\n",
        "# Prepare the training dataset.\n",
        "train_dataset = tf.data.Dataset.from_tensor_slices((x_train, y_train))\n",
        "train_dataset = train_dataset.shuffle(buffer_size=1024).batch(batch_size)\n",
        "\n",
        "# Prepare the validation dataset.\n",
        "val_dataset = tf.data.Dataset.from_tensor_slices((x_val, y_val))\n",
        "val_dataset = val_dataset.batch(batch_size)"
      ],
      "metadata": {
        "colab": {
          "base_uri": "https://localhost:8080/"
        },
        "id": "5xxRR9sAYDAN",
        "outputId": "8ab2d300-89dc-4086-8b30-fd966a80a77a"
      },
      "execution_count": 12,
      "outputs": [
        {
          "output_type": "stream",
          "name": "stdout",
          "text": [
            "Downloading data from https://storage.googleapis.com/tensorflow/tf-keras-datasets/mnist.npz\n",
            "11490434/11490434 [==============================] - 0s 0us/step\n"
          ]
        }
      ]
    },
    {
      "cell_type": "code",
      "source": [
        "import matplotlib.pyplot as plt"
      ],
      "metadata": {
        "id": "WrStt_g-fPPw"
      },
      "execution_count": 13,
      "outputs": []
    },
    {
      "cell_type": "code",
      "source": [
        "rank = [1, 5, 10, 15, 20, 128]\n",
        "rate =[]\n",
        "for r in rank:\n",
        "  rate = general(5, train_dataset, val_dataset, r)\n",
        "  rate = np.array(rate)\n",
        "  plt.plot(rate[:, 0], label='training accuracy for r = ' + str(r))\n",
        "  plt.plot(rate[:, 1], label='validation accuracy for r = ' + str(r))\n",
        "  plt.legend()\n",
        "plt.rcParams['figure.figsize'] = [10, 8]\n",
        "plt.show()"
      ],
      "metadata": {
        "colab": {
          "base_uri": "https://localhost:8080/"
        },
        "id": "DXliBUpReU2B",
        "outputId": "36fe7403-83f2-403c-f817-8d4ea24dc274"
      },
      "execution_count": null,
      "outputs": [
        {
          "output_type": "stream",
          "name": "stdout",
          "text": [
            "\n",
            "Start of epoch 0\n",
            "\n",
            "Start of epoch 1\n",
            "\n",
            "Start of epoch 2\n"
          ]
        }
      ]
    },
    {
      "cell_type": "code",
      "source": [
        "train_rate = general(5, train_dataset, val_dataset, 5)"
      ],
      "metadata": {
        "id": "p2ueXMkXYGuJ"
      },
      "execution_count": null,
      "outputs": []
    },
    {
      "cell_type": "code",
      "source": [
        "train_rate = np.array(train_rate)\n",
        "a=0\n",
        "plt.plot(train_rate[:, 0], label='training accuracy')\n",
        "plt.plot(train_rate[:, 1], label='validation accuracy')\n",
        "plt.legend()\n",
        "plt.show()"
      ],
      "metadata": {
        "id": "Lv8RgEhUYMBQ"
      },
      "execution_count": null,
      "outputs": []
    },
    {
      "cell_type": "code",
      "source": [
        "import matplotlib.pyplot as plt\n",
        "x = [1,2,3]\n",
        "plt.figure(1)\n",
        "plt.rcParams['figure.figsize'] = [10, 5]\n",
        "plt.plot(x)\n",
        "plt.show()"
      ],
      "metadata": {
        "id": "VWYM4w-MGMym"
      },
      "execution_count": null,
      "outputs": []
    },
    {
      "cell_type": "code",
      "source": [],
      "metadata": {
        "id": "AY2KoTRBGWSe"
      },
      "execution_count": null,
      "outputs": []
    },
    {
      "cell_type": "code",
      "source": [],
      "metadata": {
        "id": "eNWu30jdGqJt"
      },
      "execution_count": null,
      "outputs": []
    }
  ]
}